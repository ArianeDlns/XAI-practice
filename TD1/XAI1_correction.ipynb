{
 "cells": [
  {
   "cell_type": "markdown",
   "id": "bd61a11d-4e75-4a9e-afc3-94ab57754973",
   "metadata": {
    "tags": []
   },
   "source": [
    "<center><img src='https://drive.google.com/uc?export=view&id=1qJ8NqAZolTBQY7lN-deZ8xEsU3dlUiLz' width=200></center>\n",
    "\n",
    "\n",
    "<h6><center></center></h6>\n",
    "\n",
    "<h1>\n",
    "<hr style=\" border:none; height:3px;\">\n",
    "<center>Cours XAI</center>\n",
    "    <center> LAB1 : Modèles transparents</center>\n",
    "    <center> Corrections</center>\n",
    "<hr style=\" border:none; height:3px;\">\n",
    "</h1>"
   ]
  },
  {
   "cell_type": "markdown",
   "id": "d066194a",
   "metadata": {},
   "source": [
    "# Prérequis\n",
    "En utilisant pip, conda ou autre, il faudra installer les modules python suivants:\n",
    "* numpy\n",
    "* pandas\n",
    "* scipy\n",
    "* scikit-learn\n",
    "* matplotlib\n",
    "* pygam"
   ]
  },
  {
   "cell_type": "markdown",
   "id": "479b91f8",
   "metadata": {},
   "source": [
    "# Prise en main du ficher de données\n",
    "Les données que nous allons utiliser sont des données qui indiquent le coût de l'assurance maladie pour plus de 1300 personnes.\n",
    "Une personne est décrite par:\n",
    "- son âge\n",
    "- son sexe\n",
    "- sa masse corporelle\n",
    "- son nombre d'enfants\n",
    "- si elle fume ou pas\n",
    "- la région dans laquelle elle vit\n",
    "- le coût de son assurance.\n",
    "\n",
    "Nous allons dans un premier temps prendre en main le fichier de données."
   ]
  },
  {
   "cell_type": "code",
   "execution_count": null,
   "id": "af62c353",
   "metadata": {
    "scrolled": true
   },
   "outputs": [],
   "source": [
    "from pandas import *\n",
    "data = read_csv(r'insurance.csv')\n",
    "data.info()"
   ]
  },
  {
   "cell_type": "code",
   "execution_count": null,
   "id": "a1b29b66",
   "metadata": {},
   "outputs": [],
   "source": [
    "data.head()"
   ]
  },
  {
   "cell_type": "markdown",
   "id": "bd04b2e6",
   "metadata": {},
   "source": [
    "On remarque:\n",
    "- qu'il y a 7 colonnes, 1338 lignes\n",
    "- qu'il n'y a pas de valeurs manquantes\n",
    "- qu'il y a 3 colonnes catégorielles (object).\n",
    "\n",
    "Q1.Affichez les modalités (les valeurs possibles pour chacune de ces colonnes) ainsi que l'effectif correspondant."
   ]
  },
  {
   "cell_type": "code",
   "execution_count": null,
   "id": "e859da5b",
   "metadata": {},
   "outputs": [],
   "source": [
    "data.groupby([\"sex\"]).size()"
   ]
  },
  {
   "cell_type": "code",
   "execution_count": null,
   "id": "1a7e93d3",
   "metadata": {},
   "outputs": [],
   "source": [
    "data.groupby([\"children\"]).size()"
   ]
  },
  {
   "cell_type": "code",
   "execution_count": null,
   "id": "b443e61c",
   "metadata": {},
   "outputs": [],
   "source": [
    "data.groupby([\"region\"]).size()"
   ]
  },
  {
   "cell_type": "code",
   "execution_count": null,
   "id": "d1610946",
   "metadata": {},
   "outputs": [],
   "source": [
    "data.groupby([\"smoker\"]).size()"
   ]
  },
  {
   "cell_type": "code",
   "execution_count": null,
   "id": "5613dfd1",
   "metadata": {},
   "outputs": [],
   "source": [
    "# histogramme pour features numériques\n",
    "data.hist(bins=10, figsize=(10,12))"
   ]
  },
  {
   "cell_type": "markdown",
   "id": "c8247345",
   "metadata": {},
   "source": [
    "Que pouvez-vous dire sur l'équilibre du jeu de données ? Apprendre sur ce dernier va-t-il poser un problème de représentativité ?"
   ]
  },
  {
   "cell_type": "code",
   "execution_count": null,
   "id": "4bae7571",
   "metadata": {},
   "outputs": [],
   "source": [
    "#entrez ici votre réponse entre \"\"\" \"\"\""
   ]
  },
  {
   "cell_type": "markdown",
   "id": "48e46c49",
   "metadata": {},
   "source": [
    "# Régression linéaire\n",
    "Nous allons appliquer dans un premier temps la régression linéaire. Cependant, elle ne prend pas correctement en compte les données catégorielles.\n",
    "Nous allons devoir les transformer."
   ]
  },
  {
   "cell_type": "markdown",
   "id": "5e1c78c5",
   "metadata": {},
   "source": [
    "## Adaptation du jeu de données\n",
    "La régression linéaire ne gère pas très bien les données catégorielles, en particulier quand elles ne sont pas ordonnées.\n",
    "Classiquement, on transforme:\n",
    "    - les données binaires ou à 2 modalités en 0 et 1\n",
    "    - les données à au moins 3 modalités en un codage binaire de ces modalités: on se retrouve avec autant de colonnes binaires qu'il y a de modalités.\n",
    "Pour les colonnes a deux modalités, on peut directement les transformer avec une méthode de conversion."
   ]
  },
  {
   "cell_type": "code",
   "execution_count": null,
   "id": "83a706be",
   "metadata": {},
   "outputs": [],
   "source": [
    "def YesNoConverter(val):\n",
    "    if val==\"yes\": return 1\n",
    "    else: return 0\n",
    "\n",
    "data[\"smoker\"] = data[\"smoker\"].apply(YesNoConverter)"
   ]
  },
  {
   "cell_type": "code",
   "execution_count": null,
   "id": "e3261704",
   "metadata": {},
   "outputs": [],
   "source": [
    "def MaleFemaleConverter(val):\n",
    "    #faire la même chose ici\n",
    "    if val==\"male\": return 0\n",
    "    else: return 1\n",
    "\n",
    "data[\"sex\"] = data[\"sex\"].apply(MaleFemaleConverter)"
   ]
  },
  {
   "cell_type": "markdown",
   "id": "153d7a3d",
   "metadata": {},
   "source": [
    "Pour la dernière colonne, nous allons utiliser la fonction  [get_dummies()](https://pandas.pydata.org/pandas-docs/stable/reference/api/pandas.get_dummies.html) qui fait tout le travail à notre place. Il faudra ensuite insérer les colonnes créées avec [concat](https://pandas.pydata.org/pandas-docs/stable/reference/api/pandas.concat.html) et supprimer la colonne originale avec [drop](https://pandas.pydata.org/pandas-docs/stable/reference/api/pandas.DataFrame.drop.html)."
   ]
  },
  {
   "cell_type": "code",
   "execution_count": null,
   "id": "98af8a78",
   "metadata": {},
   "outputs": [],
   "source": [
    "newcols = get_dummies(data[\"region\"])\n",
    "data = concat([newcols,data], axis=1)\n",
    "data = data.drop([\"region\"], axis=1)\n",
    "data.info()\n",
    "data.head()"
   ]
  },
  {
   "cell_type": "code",
   "execution_count": null,
   "id": "c8a5fcdd",
   "metadata": {},
   "outputs": [],
   "source": [
    "#Ou directement.\n",
    "data=get_dummies(data, prefix=['region'])\n",
    "print(data.columns)\n",
    "data.head()"
   ]
  },
  {
   "cell_type": "code",
   "execution_count": null,
   "id": "37a218c3",
   "metadata": {},
   "outputs": [],
   "source": [
    "data.describe()"
   ]
  },
  {
   "cell_type": "markdown",
   "id": "7b6e90e1",
   "metadata": {},
   "source": [
    "## Régression linéaire\n",
    "Maintenant que le jeu de données est prêt, utilisez [LinearRegression](https://scikit-learn.org/stable/modules/generated/sklearn.linear_model.LinearRegression.html) de scikit learn pour obtenir un modèle linéaire."
   ]
  },
  {
   "cell_type": "code",
   "execution_count": null,
   "id": "1eba26e8",
   "metadata": {},
   "outputs": [],
   "source": [
    "#Installing \n",
    "\n",
    "!pip install -U scikit-learn"
   ]
  },
  {
   "cell_type": "code",
   "execution_count": null,
   "id": "bbf513f5",
   "metadata": {},
   "outputs": [],
   "source": [
    "import sklearn\n",
    "from sklearn.linear_model import LinearRegression\n",
    "\n",
    "model1 = LinearRegression()\n",
    "x,y = data.iloc[:,:-1], data.iloc[:,-1]\n",
    "model1 = model1.fit(x,y)"
   ]
  },
  {
   "cell_type": "markdown",
   "id": "65889b79",
   "metadata": {},
   "source": [
    "## Interprétation\n",
    "Maintenant que vous avez un modèle entraînez, mettez en oeuvre ce que nous avons vu en cours (et plus!) pour l'interpréter. Utilisez au moins les poids, la SE et le t pour chaque coefficient."
   ]
  },
  {
   "cell_type": "code",
   "execution_count": null,
   "id": "c72e925c",
   "metadata": {},
   "outputs": [],
   "source": [
    "import numpy as np\n",
    "\n",
    "sse = np.sum((model1.predict(x) - y) ** 2, axis=0)\n",
    "\n",
    "degree =  float(x.shape[0] - x.shape[1])  #degree of freedom\n",
    "smpvar = sse / degree #sample variance\n",
    "\n",
    "se = np.array(np.sqrt(np.diagonal(smpvar * np.linalg.inv(np.dot(x.T, x)))))\n",
    "\n",
    "t = model1.coef_/se\n",
    "\n",
    "L = []\n",
    "\n",
    "L.append([\"intercept\", model1.intercept_, None, None])\n",
    "\n",
    "labels = list(x.columns) \n",
    "\n",
    "for i in range(len(labels)):\n",
    "    L.append([labels[i], model1.coef_[i], se[i], t[i]])\n",
    "\n",
    "res = DataFrame.from_records(L, columns=[\"Column\", \"Weight\", \"SE\", \"t\"])\n",
    "print(res)\n",
    "print(sse)"
   ]
  },
  {
   "cell_type": "code",
   "execution_count": null,
   "id": "4881f678",
   "metadata": {},
   "outputs": [],
   "source": [
    "#Tapez ici votre interpretation (que révèle le modèle?)\n",
    "#Concluez sur l'utilisation de ce modèle pour ce dataset"
   ]
  },
  {
   "cell_type": "markdown",
   "id": "2ea830f1",
   "metadata": {},
   "source": [
    "# Arbre de régression\n",
    "Nous allons à présent tester un deuxième modèle: les arbres de régression. Normalement, la plupart des algorithmes acceptent tous les types de données. Cependant, l'implémentation de scikit learn ne le permet pas. Nous allons donc conserver notre jeu de données tel que pré-traité auparavant.\n",
    "\n",
    "J'attire sur votre attention que le problème ne vient pas des colonnes binaires (à deux modalités). En revanche, pour les colonnes catégorielles à plus de 2 modalités, l'implémentation de scikit learn traiterait plutôt des valeurs ordinales, et ce n'est pas le cas des régions chez nous. Vous trouverez sur le net des tas d'astuces qui vous diront de remplacer les modalités par des nombres, etc. Elles ne me paraissent pas judicieuses dans notre cas. Aussi, lors de l'interprétation du modèle, je vous demande de prendre avec précautions les 4 colonnes \"région\"."
   ]
  },
  {
   "cell_type": "markdown",
   "id": "c5e15536",
   "metadata": {},
   "source": [
    "## Entraînement\n",
    "Entraînez un arbre de régression avec [scikit learn](https://scikit-learn.org/stable/modules/tree.html). Ne laissez pas les valeurs par défaut dans le constructeur, car sinon votre arbre sera très profond (et donc pas interprétable). Ajustez les paramètres tout en maintenant un taux de classification élevé. \n",
    "Remarque: pour cet exercice, il n'est pas nécessaire de mettre en place une cross-validation (on fait de la régression). On peut utilisé le taux de classification sur l'ensemble d'apprentissage ou un sous-ensemble, cela suffit pour cet exercice en tout cas."
   ]
  },
  {
   "cell_type": "code",
   "execution_count": null,
   "id": "2461e1ac",
   "metadata": {},
   "outputs": [],
   "source": [
    "%matplotlib notebook\n",
    "\n",
    "from sklearn import tree\n",
    "from matplotlib import pyplot as plt\n",
    "\n",
    "model2 = tree.DecisionTreeRegressor(max_depth=3)\n",
    "model2 = model2.fit(x,y)\n",
    "\n",
    "_ = tree.plot_tree(model2)\n",
    "\n",
    "\n",
    "\n",
    "\n"
   ]
  },
  {
   "cell_type": "code",
   "execution_count": null,
   "id": "2a8dc9b5",
   "metadata": {},
   "outputs": [],
   "source": [
    "#ou bien\n",
    "%matplotlib notebook\n",
    "\n",
    "from sklearn import tree\n",
    "from matplotlib import pyplot as plt\n",
    "\n",
    "clf = tree.DecisionTreeRegressor(max_depth = 5, min_samples_leaf=10, max_features=3, random_state=2905)\n",
    "clf = clf.fit(x, y)"
   ]
  },
  {
   "cell_type": "code",
   "execution_count": null,
   "id": "0fbd6915",
   "metadata": {},
   "outputs": [],
   "source": [
    "plt.figure(figsize=(16, 12))\n",
    "tree.plot_tree(clf, fontsize=10) \n",
    "plt.savefig(\"tree.png\")\n",
    "plt.show()"
   ]
  },
  {
   "cell_type": "markdown",
   "id": "8277a682",
   "metadata": {},
   "source": [
    "Prenez la dernière ligne du jeu de données, et retrouvez le chemin de la décision dans l'arbre avec la méthode [decision_path](https://scikit-learn.org/stable/modules/generated/sklearn.tree.DecisionTreeRegressor.html#sklearn.tree.DecisionTreeRegressor.decision_path). L'idée est de connaître la liste des tests par lesquels l'instance est passée."
   ]
  },
  {
   "cell_type": "code",
   "execution_count": null,
   "id": "039e919a",
   "metadata": {},
   "outputs": [],
   "source": [
    "n_nodes = clf.tree_.node_count\n",
    "children_left = clf.tree_.children_left\n",
    "children_right = clf.tree_.children_right\n",
    "feature = clf.tree_.feature\n",
    "threshold = clf.tree_.threshold\n",
    "\n",
    "### Chemin de décision ###\n",
    "\n",
    "# pour le dernier exemple du jeu de données\n",
    "X_test = np.array(x.loc[1337]).reshape(1, -1)\n",
    "print(\"Example : \", X_test)\n",
    "node_indicator = clf.decision_path(X_test)\n",
    "leaf_id = clf.apply(X_test)\n",
    "\n",
    "sample_id = 0\n",
    "# obtain ids of the nodes `sample_id` goes through, i.e., row `sample_id`\n",
    "node_index = node_indicator.indices[node_indicator.indptr[sample_id]:\n",
    "                                    node_indicator.indptr[sample_id + 1]]\n",
    "\n",
    "print('\\nRules used to predict sample {id}:\\n'.format(id=sample_id))\n",
    "for node_id in node_index:\n",
    "    # continue to the next node if it is a leaf node\n",
    "    if leaf_id[sample_id] == node_id:\n",
    "        continue\n",
    "\n",
    "    # check if value of the split feature for sample 0 is below threshold\n",
    "    if (X_test[sample_id, feature[node_id]] <= threshold[node_id]):\n",
    "        threshold_sign = \"<=\"\n",
    "    else:\n",
    "        threshold_sign = \">\"\n",
    "\n",
    "    print(\"decision node {node} : (X_test[{sample}, {feature}] = {value}) \"\n",
    "          \"{inequality} {threshold})\".format(\n",
    "              node=node_id,\n",
    "              sample=sample_id,\n",
    "              feature=feature[node_id],\n",
    "              value=X_test[sample_id, feature[node_id]],\n",
    "              inequality=threshold_sign,\n",
    "              threshold=threshold[node_id]))"
   ]
  },
  {
   "cell_type": "markdown",
   "id": "78764889",
   "metadata": {},
   "source": [
    "## Interprétation\n",
    "A présent, interprétez le modèle (intéressez-vous à la feature importance). Que révèle l'arbre?"
   ]
  },
  {
   "cell_type": "code",
   "execution_count": null,
   "id": "d2a2be95",
   "metadata": {},
   "outputs": [],
   "source": [
    "# feature importances\n",
    "\n",
    "# get importance\n",
    "importance = clf.feature_importances_\n",
    "# summarize feature importance\n",
    "for i,v in enumerate(importance):\n",
    "    print('Feature: %s, Score: %.5f' % (x.columns[i],v))"
   ]
  },
  {
   "cell_type": "code",
   "execution_count": null,
   "id": "492a9b11",
   "metadata": {},
   "outputs": [],
   "source": [
    "%matplotlib inline\n",
    "# plot feature importance\n",
    "plt.figure(figsize=(16, 6))\n",
    "plt.bar(x.columns, importance, tick_label=x.columns)\n",
    "plt.title(\"Feature importance - Decision Tree Regressor\")\n",
    "plt.show()"
   ]
  },
  {
   "cell_type": "markdown",
   "id": "75112708",
   "metadata": {},
   "source": [
    "# GAM\n",
    "Nous allons passer au troisième type de modèle: les GAM."
   ]
  },
  {
   "cell_type": "markdown",
   "id": "d7f42d21",
   "metadata": {},
   "source": [
    "## Entraînement\n",
    "En utilisant le module pyGam, entraînez un GAM pour notre tâche de régression. Ne laissez pas les paramètres par défaut."
   ]
  },
  {
   "cell_type": "code",
   "execution_count": null,
   "id": "eecf1441",
   "metadata": {},
   "outputs": [],
   "source": [
    "from pygam import LinearGAM, s\n",
    "model3 = LinearGAM(s(4) + s(6) + s(8)).fit(x, y)\n",
    "model3.summary()"
   ]
  },
  {
   "cell_type": "markdown",
   "id": "f2b5e266",
   "metadata": {},
   "source": [
    "Pourquoi avez-vous choisi cette architecture de GAM?"
   ]
  },
  {
   "cell_type": "code",
   "execution_count": null,
   "id": "6659cff8",
   "metadata": {},
   "outputs": [],
   "source": []
  },
  {
   "cell_type": "markdown",
   "id": "e604f8a5",
   "metadata": {},
   "source": [
    "## Interprétation\n",
    "Visualisez les termes de votre GAM."
   ]
  },
  {
   "cell_type": "code",
   "execution_count": null,
   "id": "0cd48135",
   "metadata": {},
   "outputs": [],
   "source": [
    "for i, term in enumerate(model3.terms):\n",
    "    if term.isintercept:\n",
    "        continue\n",
    "\n",
    "    XX = model3.generate_X_grid(term=i)\n",
    "    pdep, confi = model3.partial_dependence(term=i, X=XX, width=0.95)\n",
    "\n",
    "    plt.figure()\n",
    "    plt.plot(XX[:, term.feature], pdep)\n",
    "    plt.plot(XX[:, term.feature], confi, c='r', ls='--')\n",
    "    plt.title(repr(term))\n",
    "    plt.show()"
   ]
  },
  {
   "cell_type": "markdown",
   "id": "listed-pantyhose",
   "metadata": {},
   "source": [
    "Quelles informations tirez-vous du GAM ?"
   ]
  },
  {
   "cell_type": "code",
   "execution_count": null,
   "id": "769c55ef",
   "metadata": {},
   "outputs": [],
   "source": [
    "#Votre réponse ici entre \"\"\" \"\"\""
   ]
  },
  {
   "cell_type": "markdown",
   "id": "ambient-october",
   "metadata": {},
   "source": [
    "# Conclusion\n",
    "Indiquez ce que les différents modèles vous ont apporté comme connaissances sur les données et le fonctionnement de ces modèles."
   ]
  },
  {
   "cell_type": "code",
   "execution_count": null,
   "id": "eb4a87af",
   "metadata": {},
   "outputs": [],
   "source": [
    "#Votre réponse ici entre \"\"\" \"\"\""
   ]
  }
 ],
 "metadata": {
  "kernelspec": {
   "display_name": "Python 3",
   "language": "python",
   "name": "python3"
  },
  "language_info": {
   "codemirror_mode": {
    "name": "ipython",
    "version": 3
   },
   "file_extension": ".py",
   "mimetype": "text/x-python",
   "name": "python",
   "nbconvert_exporter": "python",
   "pygments_lexer": "ipython3",
   "version": "3.9.0"
  }
 },
 "nbformat": 4,
 "nbformat_minor": 5
}
